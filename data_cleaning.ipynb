{
 "cells": [
  {
   "cell_type": "code",
   "execution_count": 2,
   "metadata": {},
   "outputs": [],
   "source": [
    "import pandas as pd\n",
    "import os"
   ]
  },
  {
   "cell_type": "markdown",
   "metadata": {},
   "source": [
    "### Create Dataframe"
   ]
  },
  {
   "cell_type": "code",
   "execution_count": null,
   "metadata": {},
   "outputs": [],
   "source": [
    "# NOTE: this cell was only ran once, doesn't need to be run each time\n",
    "pollutants = ['CO/', 'NO2/', 'Ozone/', 'PM2.5/', 'PM10/', 'SO2/']\n",
    "\n",
    "# empty list to store dfs\n",
    "dfs = []\n",
    "\n",
    "# read in files and create dataframe of all data for each pollutant\n",
    "for pollutant in pollutants:\n",
    "    # iterate through files in the directory\n",
    "    for filename in os.listdir('data/' + pollutant):\n",
    "        df = pd.read_csv('data/' + pollutant + filename)\n",
    "        dfs.append(df)\n",
    "\n",
    "    # concatenate all dfs in the list\n",
    "    merged_df = pd.concat(dfs, ignore_index=True)\n",
    "    df = merged_df.drop(columns=[\"POC\", \"Source\", \"Local Site Name\", \"Percent Complete\", \"AQS Parameter Code\", \"Method Code\", \"CBSA Code\", \"CBSA Name\", \"State FIPS Code\", \"State\"])\n",
    "\n",
    "    # save the merged DataFrame to a new CSV file\n",
    "    df.to_csv('data/All/all_' + pollutant[:-1] + '.csv', index=False)"
   ]
  },
  {
   "cell_type": "code",
   "execution_count": null,
   "metadata": {},
   "outputs": [],
   "source": [
    "\n"
   ]
  }
 ],
 "metadata": {
  "kernelspec": {
   "display_name": "acme",
   "language": "python",
   "name": "python3"
  },
  "language_info": {
   "codemirror_mode": {
    "name": "ipython",
    "version": 3
   },
   "file_extension": ".py",
   "mimetype": "text/x-python",
   "name": "python",
   "nbconvert_exporter": "python",
   "pygments_lexer": "ipython3",
   "version": "3.12.5"
  }
 },
 "nbformat": 4,
 "nbformat_minor": 2
}
