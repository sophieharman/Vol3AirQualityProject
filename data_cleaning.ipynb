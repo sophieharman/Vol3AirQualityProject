{
 "cells": [
  {
   "cell_type": "code",
   "execution_count": 2,
   "metadata": {},
   "outputs": [],
   "source": [
    "import pandas as pd\n",
    "import os"
   ]
  },
  {
   "cell_type": "markdown",
   "metadata": {},
   "source": [
    "### Create Dataframe"
   ]
  },
  {
   "cell_type": "code",
   "execution_count": 10,
   "metadata": {},
   "outputs": [],
   "source": [
    "# NOTE: this cell was only ran once, doesn't need to be run each time\n",
    "pollutants = ['CO/', 'NO2/', 'Ozone/', 'PM2.5/', 'PM10/', 'SO2/']\n",
    "\n",
    "# read in files and create dataframe of all data for each pollutant\n",
    "for pollutant in pollutants:\n",
    "    # empty list to store dfs\n",
    "    dfs = []\n",
    "    # iterate through files in the directory\n",
    "    for filename in os.listdir('data/' + pollutant):\n",
    "        df = pd.read_csv('data/' + pollutant + filename)\n",
    "        dfs.append(df)\n",
    "\n",
    "    # concatenate all dfs in the list\n",
    "    merged_df = pd.concat(dfs, ignore_index=True)\n",
    "    df = merged_df.drop(columns=[\"POC\", \"Source\", \"Local Site Name\", \"Percent Complete\", \"AQS Parameter Code\", \"Method Code\", \"CBSA Code\", \"CBSA Name\", \"State FIPS Code\", \"State\"])\n",
    "\n",
    "    # save the merged DataFrame to a new CSV file\n",
    "    df.to_csv('data/All/all_' + pollutant[:-1] + '.csv', index=False)"
   ]
  },
  {
   "cell_type": "code",
   "execution_count": 15,
   "metadata": {},
   "outputs": [],
   "source": [
    "# NOTE: feel free to edit this cell to make the data cleaner, but otherwise it doesn't need to be run\n",
    "# read in dataframes for each pollutant and merge into 1\n",
    "df_CO = pd.read_csv('data/All/all_CO.csv')\n",
    "df_NO2 = pd.read_csv('data/All/all_NO2.csv')\n",
    "df_Ozone = pd.read_csv('data/All/all_Ozone.csv')\n",
    "df_PM2_5 = pd.read_csv('data/All/all_PM2.5.csv')\n",
    "df_PM10 = pd.read_csv('data/All/all_PM10.csv')\n",
    "df_SO2 = pd.read_csv('data/All/all_SO2.csv')\n",
    "\n",
    "mergedCO_NO2 = df_CO.merge(df_NO2, on=['Date', 'Site ID'], how=\"outer\", suffixes=('CO', 'NO2'))\n",
    "mergedOzone_PM2 = df_Ozone.merge(df_PM2_5, on=['Date', 'Site ID'], how=\"outer\", suffixes=('Ozone', 'PM25'))\n",
    "mergedPM10_SO2 = df_PM10.merge(df_SO2, on=['Date', 'Site ID'], how=\"outer\", suffixes=('PM10', 'SO2'))\n",
    "mergedCO_NO2_Ozone_PM2 = mergedCO_NO2.merge(mergedOzone_PM2, on=['Date', 'Site ID'], how=\"outer\")\n",
    "all_merged = mergedCO_NO2_Ozone_PM2.merge(df_PM10, on=['Date', 'Site ID'], how='outer')\n",
    "\n",
    "all_merged.to_csv('data/All/all_merged.csv')"
   ]
  },
  {
   "cell_type": "code",
   "execution_count": 16,
   "metadata": {},
   "outputs": [],
   "source": [
    "# read in dataframe\n",
    "df = pd.read_csv('data/All/all_merged.csv')"
   ]
  }
 ],
 "metadata": {
  "kernelspec": {
   "display_name": "acme",
   "language": "python",
   "name": "python3"
  },
  "language_info": {
   "codemirror_mode": {
    "name": "ipython",
    "version": 3
   },
   "file_extension": ".py",
   "mimetype": "text/x-python",
   "name": "python",
   "nbconvert_exporter": "python",
   "pygments_lexer": "ipython3",
   "version": "3.12.5"
  }
 },
 "nbformat": 4,
 "nbformat_minor": 2
}
