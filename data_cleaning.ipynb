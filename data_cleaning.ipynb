{
 "cells": [
  {
   "cell_type": "code",
   "execution_count": 2,
   "metadata": {},
   "outputs": [],
   "source": [
    "import pandas as pd\n",
    "import os"
   ]
  },
  {
   "cell_type": "markdown",
   "metadata": {},
   "source": [
    "### Create Dataframe"
   ]
  },
  {
   "cell_type": "code",
   "execution_count": 17,
   "metadata": {},
   "outputs": [],
   "source": [
    "# read in files and create dataframe of all data for each pollutant\n",
    "directory = '/data/Ozone/'\n",
    "current_dir = os.getcwd()\n",
    "full_path = current_dir + directory\n",
    "# empty list to store dfs\n",
    "dfs = []\n",
    "\n",
    "# iterate through files in the directory\n",
    "for filename in os.listdir(full_path):\n",
    "    file_path = os.path.join(full_path, filename)\n",
    "    df = pd.read_csv(file_path)\n",
    "    dfs.append(df)\n",
    "\n",
    "# concatenate all dfs in the list\n",
    "merged_df = pd.concat(dfs, ignore_index=True)\n",
    "df = merged_df.drop(columns=[\"POC\", \"Source\", \"Local Site Name\", \"Percent Complete\", \"AQS Parameter Code\", \"Method Code\", \"CBSA Code\", \"CBSA Name\", \"State FIPS Code\", \"State\"])\n",
    "\n",
    "# Optionally, save the merged DataFrame to a new CSV file\n",
    "df.to_csv('all_Ozone.csv', index=False)"
   ]
  }
 ],
 "metadata": {
  "kernelspec": {
   "display_name": "acme",
   "language": "python",
   "name": "python3"
  },
  "language_info": {
   "codemirror_mode": {
    "name": "ipython",
    "version": 3
   },
   "file_extension": ".py",
   "mimetype": "text/x-python",
   "name": "python",
   "nbconvert_exporter": "python",
   "pygments_lexer": "ipython3",
   "version": "3.12.5"
  }
 },
 "nbformat": 4,
 "nbformat_minor": 2
}
