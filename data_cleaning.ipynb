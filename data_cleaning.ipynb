{
 "cells": [
  {
   "cell_type": "markdown",
   "metadata": {},
   "source": [
    "### Data Cleaning"
   ]
  },
  {
   "cell_type": "code",
   "execution_count": 66,
   "metadata": {},
   "outputs": [],
   "source": [
    "import os\n",
    "import numpy as np\n",
    "import pandas as pd\n",
    "import seaborn as sns\n",
    "import matplotlib.pyplot as plt\n",
    "from sklearn.decomposition import PCA\n",
    "from sklearn.preprocessing import StandardScaler\n",
    "from sklearn.experimental import enable_iterative_imputer\n",
    "from sklearn.impute import IterativeImputer\n",
    "from sklearn.linear_model import BayesianRidge\n",
    "from sklearn.preprocessing import MinMaxScaler"
   ]
  },
  {
   "cell_type": "markdown",
   "metadata": {},
   "source": [
    "### Create Dataframe"
   ]
  },
  {
   "cell_type": "code",
   "execution_count": 71,
   "metadata": {},
   "outputs": [],
   "source": [
    "# NOTE: this cell was only ran once, doesn't need to be run each time\n",
    "# pollutants = ['CO/', 'NO2/', 'Ozone/', 'PM2.5/', 'PM10/', 'SO2/']\n",
    "\n",
    "# # read in files and create dataframe of all data for each pollutant\n",
    "# for pollutant in pollutants:\n",
    "#     # empty list to store dfs\n",
    "#     dfs = []\n",
    "#     # iterate through files in the directory\n",
    "#     for filename in os.listdir('data/' + pollutant):\n",
    "#         df = pd.read_csv('data/' + pollutant + filename)\n",
    "\n",
    "#         if pollutant == 'PM2.5/':\n",
    "#             # only keep local conditions of pm2.5\n",
    "#             df = df[df[\"AQS Parameter Description\"] == \"PM2.5 - Local Conditions\"]\n",
    "#         dfs.append(df)\n",
    "\n",
    "#     # concatenate all dfs in the list\n",
    "#     merged_df = pd.concat(dfs, ignore_index=True)\n",
    "#     df = merged_df.drop(columns=[\"POC\", \"Source\", \"Local Site Name\", \"Percent Complete\", \"AQS Parameter Code\", \"AQS Parameter Description\", \"Method Code\", \"CBSA Code\", \"CBSA Name\", \"State FIPS Code\", \"State\", \"Units\"])\n",
    "\n",
    "#     # save the merged DataFrame to a new CSV file\n",
    "#     df.to_csv('data/All/all_' + pollutant[:-1] + '.csv', index=False)"
   ]
  },
  {
   "cell_type": "code",
   "execution_count": null,
   "metadata": {},
   "outputs": [],
   "source": [
    "# NOTE: feel free to edit this cell to make the data cleaner, but otherwise it doesn't need to be run\n",
    "# read in dataframes for each pollutant and merge into 1\n",
    "# df_CO = pd.read_csv('data/All/all_CO.csv')\n",
    "# df_NO2 = pd.read_csv('data/All/all_NO2.csv')\n",
    "# df_Ozone = pd.read_csv('data/All/all_Ozone.csv')\n",
    "# df_PM2_5 = pd.read_csv('data/All/all_PM2.5.csv')\n",
    "# df_PM10 = pd.read_csv('data/All/all_PM10.csv')\n",
    "# df_SO2 = pd.read_csv('data/All/all_SO2.csv')\n",
    "\n",
    "# cols = ['Date', 'Site ID', 'County FIPS Code', 'County', 'Site Latitude', 'Site Longitude']\n",
    "\n",
    "# mergedCO_NO2 = df_CO.merge(df_NO2, on=cols, how=\"outer\", suffixes=(' CO', ' NO2'))\n",
    "# mergedOzone_PM2 = df_Ozone.merge(df_PM2_5, on=cols, how=\"outer\", suffixes=(' Ozone', ' PM2.5'))\n",
    "# mergedPM10_SO2 = df_PM10.merge(df_SO2, on=cols, how=\"outer\", suffixes=(' PM10', ' SO2'))\n",
    "# mergedCO_NO2_Ozone_PM2 = mergedCO_NO2.merge(mergedOzone_PM2, on=cols, how=\"outer\")\n",
    "# all_merged = mergedCO_NO2_Ozone_PM2.merge(mergedPM10_SO2, on=cols, how='outer').drop(columns=[\"Method Description\"])\n",
    "\n",
    "# # reorder cols\n",
    "# col_order = [\"Date\", \"Site ID\", \"County\", \"County FIPS Code\", \"Site Latitude\", \"Site Longitude\", \n",
    "#              \"Daily Max 8-hour CO Concentration\", \"Daily AQI Value CO\", \"Daily Obs Count CO\", \n",
    "#              \"Daily Max 1-hour NO2 Concentration\", \"Daily AQI Value NO2\", \"Daily Obs Count NO2\", \n",
    "#              \"Daily Max 8-hour Ozone Concentration\", \"Daily AQI Value Ozone\", \"Daily Obs Count Ozone\", \n",
    "#              \"Daily Mean PM2.5 Concentration\", \"Daily AQI Value PM2.5\", \"Daily Obs Count PM2.5\",\n",
    "#              \"Daily Mean PM10 Concentration\", \"Daily AQI Value PM10\", \"Daily Obs Count PM10\",\n",
    "#              \"Daily Max 1-hour SO2 Concentration\", \"Daily AQI Value SO2\", \"Daily Obs Count SO2\"]\n",
    "# all_merged = all_merged[col_order]\n",
    "# all_merged.to_csv('data/All/all_merged.csv')"
   ]
  },
  {
   "cell_type": "markdown",
   "metadata": {},
   "source": [
    "NOTE: columns are measured in different units. CO: ppm, NO2: ppb, Ozone: ppm, PM2.5: ug/m3 LC, PM10: ug/m3 SC"
   ]
  },
  {
   "cell_type": "code",
   "execution_count": 55,
   "metadata": {},
   "outputs": [],
   "source": [
    "# read in dataframe\n",
    "df = pd.read_csv('data/All/all_merged.csv', usecols=lambda column: \"Unnamed\" not in column)"
   ]
  },
  {
   "cell_type": "code",
   "execution_count": 56,
   "metadata": {},
   "outputs": [
    {
     "data": {
      "text/html": [
       "<div>\n",
       "<style scoped>\n",
       "    .dataframe tbody tr th:only-of-type {\n",
       "        vertical-align: middle;\n",
       "    }\n",
       "\n",
       "    .dataframe tbody tr th {\n",
       "        vertical-align: top;\n",
       "    }\n",
       "\n",
       "    .dataframe thead th {\n",
       "        text-align: right;\n",
       "    }\n",
       "</style>\n",
       "<table border=\"1\" class=\"dataframe\">\n",
       "  <thead>\n",
       "    <tr style=\"text-align: right;\">\n",
       "      <th></th>\n",
       "      <th>Date</th>\n",
       "      <th>Site ID</th>\n",
       "      <th>County</th>\n",
       "      <th>County FIPS Code</th>\n",
       "      <th>Site Latitude</th>\n",
       "      <th>Site Longitude</th>\n",
       "      <th>Daily Max 8-hour CO Concentration</th>\n",
       "      <th>Daily AQI Value CO</th>\n",
       "      <th>Daily Obs Count CO</th>\n",
       "      <th>Daily Max 1-hour NO2 Concentration</th>\n",
       "      <th>Daily AQI Value NO2</th>\n",
       "      <th>Daily Obs Count NO2</th>\n",
       "      <th>Daily Max 8-hour Ozone Concentration</th>\n",
       "      <th>Daily AQI Value Ozone</th>\n",
       "      <th>Daily Obs Count Ozone</th>\n",
       "      <th>Daily Mean PM2.5 Concentration</th>\n",
       "      <th>Daily AQI Value PM2.5</th>\n",
       "      <th>Daily Obs Count PM2.5</th>\n",
       "      <th>Daily Mean PM10 Concentration</th>\n",
       "      <th>Daily AQI Value PM10</th>\n",
       "      <th>Daily Obs Count PM10</th>\n",
       "      <th>Daily Max 1-hour SO2 Concentration</th>\n",
       "      <th>Daily AQI Value SO2</th>\n",
       "      <th>Daily Obs Count SO2</th>\n",
       "    </tr>\n",
       "  </thead>\n",
       "  <tbody>\n",
       "    <tr>\n",
       "      <th>0</th>\n",
       "      <td>01/01/2015</td>\n",
       "      <td>490030003</td>\n",
       "      <td>Box Elder</td>\n",
       "      <td>3</td>\n",
       "      <td>41.492707</td>\n",
       "      <td>-112.018863</td>\n",
       "      <td>NaN</td>\n",
       "      <td>NaN</td>\n",
       "      <td>NaN</td>\n",
       "      <td>NaN</td>\n",
       "      <td>NaN</td>\n",
       "      <td>NaN</td>\n",
       "      <td>NaN</td>\n",
       "      <td>NaN</td>\n",
       "      <td>NaN</td>\n",
       "      <td>5.0</td>\n",
       "      <td>28.0</td>\n",
       "      <td>1.0</td>\n",
       "      <td>NaN</td>\n",
       "      <td>NaN</td>\n",
       "      <td>NaN</td>\n",
       "      <td>NaN</td>\n",
       "      <td>NaN</td>\n",
       "      <td>NaN</td>\n",
       "    </tr>\n",
       "    <tr>\n",
       "      <th>1</th>\n",
       "      <td>01/01/2015</td>\n",
       "      <td>490037001</td>\n",
       "      <td>Box Elder</td>\n",
       "      <td>3</td>\n",
       "      <td>41.945874</td>\n",
       "      <td>-112.233973</td>\n",
       "      <td>NaN</td>\n",
       "      <td>NaN</td>\n",
       "      <td>NaN</td>\n",
       "      <td>NaN</td>\n",
       "      <td>NaN</td>\n",
       "      <td>NaN</td>\n",
       "      <td>0.036</td>\n",
       "      <td>33.0</td>\n",
       "      <td>17.0</td>\n",
       "      <td>NaN</td>\n",
       "      <td>NaN</td>\n",
       "      <td>NaN</td>\n",
       "      <td>NaN</td>\n",
       "      <td>NaN</td>\n",
       "      <td>NaN</td>\n",
       "      <td>NaN</td>\n",
       "      <td>NaN</td>\n",
       "      <td>NaN</td>\n",
       "    </tr>\n",
       "    <tr>\n",
       "      <th>2</th>\n",
       "      <td>01/01/2015</td>\n",
       "      <td>490050004</td>\n",
       "      <td>Cache</td>\n",
       "      <td>5</td>\n",
       "      <td>41.731111</td>\n",
       "      <td>-111.837500</td>\n",
       "      <td>NaN</td>\n",
       "      <td>NaN</td>\n",
       "      <td>NaN</td>\n",
       "      <td>35.0</td>\n",
       "      <td>33.0</td>\n",
       "      <td>24.0</td>\n",
       "      <td>0.027</td>\n",
       "      <td>25.0</td>\n",
       "      <td>17.0</td>\n",
       "      <td>16.2</td>\n",
       "      <td>64.0</td>\n",
       "      <td>1.0</td>\n",
       "      <td>NaN</td>\n",
       "      <td>NaN</td>\n",
       "      <td>NaN</td>\n",
       "      <td>NaN</td>\n",
       "      <td>NaN</td>\n",
       "      <td>NaN</td>\n",
       "    </tr>\n",
       "    <tr>\n",
       "      <th>3</th>\n",
       "      <td>01/01/2015</td>\n",
       "      <td>490050004</td>\n",
       "      <td>Cache</td>\n",
       "      <td>5</td>\n",
       "      <td>41.731111</td>\n",
       "      <td>-111.837500</td>\n",
       "      <td>NaN</td>\n",
       "      <td>NaN</td>\n",
       "      <td>NaN</td>\n",
       "      <td>35.0</td>\n",
       "      <td>33.0</td>\n",
       "      <td>24.0</td>\n",
       "      <td>0.027</td>\n",
       "      <td>25.0</td>\n",
       "      <td>17.0</td>\n",
       "      <td>15.3</td>\n",
       "      <td>63.0</td>\n",
       "      <td>1.0</td>\n",
       "      <td>NaN</td>\n",
       "      <td>NaN</td>\n",
       "      <td>NaN</td>\n",
       "      <td>NaN</td>\n",
       "      <td>NaN</td>\n",
       "      <td>NaN</td>\n",
       "    </tr>\n",
       "    <tr>\n",
       "      <th>4</th>\n",
       "      <td>01/01/2015</td>\n",
       "      <td>490071003</td>\n",
       "      <td>Carbon</td>\n",
       "      <td>7</td>\n",
       "      <td>39.595750</td>\n",
       "      <td>-110.770111</td>\n",
       "      <td>NaN</td>\n",
       "      <td>NaN</td>\n",
       "      <td>NaN</td>\n",
       "      <td>NaN</td>\n",
       "      <td>NaN</td>\n",
       "      <td>NaN</td>\n",
       "      <td>0.045</td>\n",
       "      <td>42.0</td>\n",
       "      <td>17.0</td>\n",
       "      <td>NaN</td>\n",
       "      <td>NaN</td>\n",
       "      <td>NaN</td>\n",
       "      <td>NaN</td>\n",
       "      <td>NaN</td>\n",
       "      <td>NaN</td>\n",
       "      <td>NaN</td>\n",
       "      <td>NaN</td>\n",
       "      <td>NaN</td>\n",
       "    </tr>\n",
       "  </tbody>\n",
       "</table>\n",
       "</div>"
      ],
      "text/plain": [
       "         Date    Site ID     County  County FIPS Code  Site Latitude  \\\n",
       "0  01/01/2015  490030003  Box Elder                 3      41.492707   \n",
       "1  01/01/2015  490037001  Box Elder                 3      41.945874   \n",
       "2  01/01/2015  490050004      Cache                 5      41.731111   \n",
       "3  01/01/2015  490050004      Cache                 5      41.731111   \n",
       "4  01/01/2015  490071003     Carbon                 7      39.595750   \n",
       "\n",
       "   Site Longitude  Daily Max 8-hour CO Concentration  Daily AQI Value CO  \\\n",
       "0     -112.018863                                NaN                 NaN   \n",
       "1     -112.233973                                NaN                 NaN   \n",
       "2     -111.837500                                NaN                 NaN   \n",
       "3     -111.837500                                NaN                 NaN   \n",
       "4     -110.770111                                NaN                 NaN   \n",
       "\n",
       "   Daily Obs Count CO  Daily Max 1-hour NO2 Concentration  \\\n",
       "0                 NaN                                 NaN   \n",
       "1                 NaN                                 NaN   \n",
       "2                 NaN                                35.0   \n",
       "3                 NaN                                35.0   \n",
       "4                 NaN                                 NaN   \n",
       "\n",
       "   Daily AQI Value NO2  Daily Obs Count NO2  \\\n",
       "0                  NaN                  NaN   \n",
       "1                  NaN                  NaN   \n",
       "2                 33.0                 24.0   \n",
       "3                 33.0                 24.0   \n",
       "4                  NaN                  NaN   \n",
       "\n",
       "   Daily Max 8-hour Ozone Concentration  Daily AQI Value Ozone  \\\n",
       "0                                   NaN                    NaN   \n",
       "1                                 0.036                   33.0   \n",
       "2                                 0.027                   25.0   \n",
       "3                                 0.027                   25.0   \n",
       "4                                 0.045                   42.0   \n",
       "\n",
       "   Daily Obs Count Ozone  Daily Mean PM2.5 Concentration  \\\n",
       "0                    NaN                             5.0   \n",
       "1                   17.0                             NaN   \n",
       "2                   17.0                            16.2   \n",
       "3                   17.0                            15.3   \n",
       "4                   17.0                             NaN   \n",
       "\n",
       "   Daily AQI Value PM2.5  Daily Obs Count PM2.5  \\\n",
       "0                   28.0                    1.0   \n",
       "1                    NaN                    NaN   \n",
       "2                   64.0                    1.0   \n",
       "3                   63.0                    1.0   \n",
       "4                    NaN                    NaN   \n",
       "\n",
       "   Daily Mean PM10 Concentration  Daily AQI Value PM10  Daily Obs Count PM10  \\\n",
       "0                            NaN                   NaN                   NaN   \n",
       "1                            NaN                   NaN                   NaN   \n",
       "2                            NaN                   NaN                   NaN   \n",
       "3                            NaN                   NaN                   NaN   \n",
       "4                            NaN                   NaN                   NaN   \n",
       "\n",
       "   Daily Max 1-hour SO2 Concentration  Daily AQI Value SO2  \\\n",
       "0                                 NaN                  NaN   \n",
       "1                                 NaN                  NaN   \n",
       "2                                 NaN                  NaN   \n",
       "3                                 NaN                  NaN   \n",
       "4                                 NaN                  NaN   \n",
       "\n",
       "   Daily Obs Count SO2  \n",
       "0                  NaN  \n",
       "1                  NaN  \n",
       "2                  NaN  \n",
       "3                  NaN  \n",
       "4                  NaN  "
      ]
     },
     "execution_count": 56,
     "metadata": {},
     "output_type": "execute_result"
    }
   ],
   "source": [
    "# Display first 5 rows of data\n",
    "pd.set_option('display.max_columns', None)\n",
    "df.head()"
   ]
  },
  {
   "cell_type": "markdown",
   "metadata": {},
   "source": [
    "Data Type Corrections"
   ]
  },
  {
   "cell_type": "code",
   "execution_count": 57,
   "metadata": {},
   "outputs": [],
   "source": [
    "# Convert object columns to string\n",
    "df[df.select_dtypes(include=['object']).columns] = df.select_dtypes(include=['object']).astype('string')\n",
    "\n",
    "# Convert date column to datetime object\n",
    "df['Date'] = pd.to_datetime(df['Date'])"
   ]
  },
  {
   "cell_type": "markdown",
   "metadata": {},
   "source": [
    "Remove duplicate data"
   ]
  },
  {
   "cell_type": "code",
   "execution_count": 58,
   "metadata": {},
   "outputs": [
    {
     "name": "stdout",
     "output_type": "stream",
     "text": [
      "Removing 9832 duplicated data points\n"
     ]
    }
   ],
   "source": [
    "# Find and remove duplicated data\n",
    "duplicates = df.duplicated()\n",
    "print(\"Removing\",df[duplicates].shape[0], \"duplicated data points\")\n",
    "df = df[-df.duplicated()]"
   ]
  },
  {
   "cell_type": "markdown",
   "metadata": {},
   "source": [
    "Add Column for weekday/weekend"
   ]
  },
  {
   "cell_type": "code",
   "execution_count": 59,
   "metadata": {},
   "outputs": [],
   "source": [
    "# Weekend column shows 1 for Saturday and Sunday, 0 for Mon, Tues, Wed, Thurs, Fri\n",
    "df['Weekend'] = df['Date'].dt.weekday.map(lambda x: 1 if x >= 5 else 0)"
   ]
  },
  {
   "cell_type": "markdown",
   "metadata": {},
   "source": [
    "Data Range Constraints\n",
    "- Process: \n",
    "    - Look at the data range for each column. Research what the typical data range is for each column. Compare the ranges. \n",
    "- Implications: \n",
    "    - The negative minimum values for pollutant concentrations requires further investigation."
   ]
  },
  {
   "cell_type": "code",
   "execution_count": 60,
   "metadata": {},
   "outputs": [
    {
     "name": "stdout",
     "output_type": "stream",
     "text": [
      "Site ID: Min = 490030003, Max = 490571003\n",
      "County FIPS Code: Min = 3, Max = 57\n",
      "Site Latitude: Min = 37.179125, Max = 41.945874098\n",
      "Site Longitude: Min = -113.305096, Max = -109.3047\n",
      "Daily Max 8-hour CO Concentration: Min = -0.3, Max = 2.9\n",
      "Daily AQI Value CO: Min = 0.0, Max = 33.0\n",
      "Daily Obs Count CO: Min = 2.0, Max = 72.0\n",
      "Daily Max 1-hour NO2 Concentration: Min = -3.0, Max = 135.0\n",
      "Daily AQI Value NO2: Min = 0.0, Max = 107.0\n",
      "Daily Obs Count NO2: Min = 18.0, Max = 24.0\n",
      "Daily Max 8-hour Ozone Concentration: Min = 0.0, Max = 0.131\n",
      "Daily AQI Value Ozone: Min = 0.0, Max = 227.0\n",
      "Daily Obs Count Ozone: Min = 5.0, Max = 68.0\n",
      "Daily Mean PM2.5 Concentration: Min = -2.3, Max = 138.8\n",
      "Daily AQI Value PM2.5: Min = 0.0, Max = 214.0\n",
      "Daily Obs Count PM2.5: Min = 1.0, Max = 2.0\n",
      "Daily Mean PM10 Concentration: Min = -20.0, Max = 375.0\n",
      "Daily AQI Value PM10: Min = 0.0, Max = 230.0\n",
      "Daily Obs Count PM10: Min = 1.0, Max = 1.0\n",
      "Daily Max 1-hour SO2 Concentration: Min = -1.7, Max = 24.0\n",
      "Daily AQI Value SO2: Min = 0.0, Max = 34.0\n",
      "Daily Obs Count SO2: Min = 18.0, Max = 24.0\n",
      "Weekend: Min = 0, Max = 1\n"
     ]
    }
   ],
   "source": [
    "# Print range of data\n",
    "def print_column_ranges(df):\n",
    "    for col in df.columns:\n",
    "        if pd.api.types.is_numeric_dtype(df[col]):  # Only process numeric columns\n",
    "            col_min = df[col].min()\n",
    "            col_max = df[col].max()\n",
    "            print(f\"{col}: Min = {col_min}, Max = {col_max}\")\n",
    "\n",
    "print_column_ranges(df)"
   ]
  },
  {
   "cell_type": "markdown",
   "metadata": {},
   "source": [
    "Determine and Examine Outliers\n",
    "- Process:\n",
    "    - Use IQR:\n",
    "        - We increase the lower and upper bound coefficient from 1.5 to 3 in order to account for the wide variety of concentrations.\n",
    "\n",
    "- Implications:\n",
    "    - When excluding the outliers, we drop 5.18% of rows \n",
    "    - We create a boolean column describing if the observation is classified as an outlier. This will allow us to easily switch between including or excluding outliers."
   ]
  },
  {
   "cell_type": "code",
   "execution_count": 62,
   "metadata": {},
   "outputs": [
    {
     "name": "stdout",
     "output_type": "stream",
     "text": [
      "Number of Rows of Outliers: 9509\n",
      "Total Number of Rows 175009\n",
      "Percentage of Outliers: 0.05433434851921901\n"
     ]
    },
    {
     "data": {
      "image/png": "[encoded data removed]",
      "text/plain": [
       "<Figure size 1200x600 with 1 Axes>"
      ]
     },
     "metadata": {},
     "output_type": "display_data"
    }
   ],
   "source": [
    "# Select numeric pollution measurement columns\n",
    "pollution_columns = [\n",
    "    'Daily Max 8-hour CO Concentration',\n",
    "    'Daily AQI Value CO', \n",
    "    'Daily Max 1-hour NO2 Concentration', \n",
    "    'Daily AQI Value NO2',\n",
    "    'Daily Max 8-hour Ozone Concentration',\n",
    "    'Daily AQI Value Ozone',\n",
    "    'Daily Mean PM2.5 Concentration', \n",
    "    'Daily AQI Value PM2.5',\n",
    "    'Daily Mean PM10 Concentration',\n",
    "    'Daily AQI Value PM10',\n",
    "    'Daily Max 1-hour SO2 Concentration',\n",
    "    'Daily AQI Value SO2'\n",
    "]\n",
    "\n",
    "# Drop non-numeric or missing columns\n",
    "pol_df = df[pollution_columns]\n",
    "\n",
    "# Find outliers using IQR\n",
    "def detect_outliers_iqr(data):\n",
    "    Q1 = data.quantile(0.25)\n",
    "    Q3 = data.quantile(0.75)\n",
    "    IQR = Q3 - Q1\n",
    "    lower_bound = Q1 - 3 * IQR\n",
    "    upper_bound = Q3 + 3 * IQR\n",
    "    return (data < lower_bound) | (data > upper_bound)\n",
    "\n",
    "outliers_iqr = pol_df.apply(detect_outliers_iqr)\n",
    "df['Outlier'] = outliers_iqr.any(axis=1) # Create outlier column in the main df\n",
    "\n",
    "# Display outliers\n",
    "outliers_df = df[df['Outlier']]\n",
    "print(f'Number of Rows of Outliers:', len(outliers_df))\n",
    "print(f'Total Number of Rows', len(df))\n",
    "print(f'Percentage of Outliers:', len(outliers_df) / len(df))\n",
    "\n",
    "\n",
    "# Plot boxplots\n",
    "plt.figure(figsize=(12,6))\n",
    "sns.boxplot(data=pol_df)\n",
    "plt.xticks(rotation=45)\n",
    "plt.title('Boxplots of Pollution Data')\n",
    "plt.show()"
   ]
  },
  {
   "cell_type": "code",
   "execution_count": 63,
   "metadata": {},
   "outputs": [
    {
     "name": "stdout",
     "output_type": "stream",
     "text": [
      "Site ID: Min = 490030003, Max = 490571003\n",
      "County FIPS Code: Min = 3, Max = 57\n",
      "Site Latitude: Min = 37.179125, Max = 41.945874098\n",
      "Site Longitude: Min = -113.305096, Max = -109.3047\n",
      "Daily Max 8-hour CO Concentration: Min = -0.3, Max = 1.3\n",
      "Daily AQI Value CO: Min = 0.0, Max = 15.0\n",
      "Daily Obs Count CO: Min = 2.0, Max = 72.0\n",
      "Daily Max 1-hour NO2 Concentration: Min = -3.0, Max = 80.7\n",
      "Daily AQI Value NO2: Min = 0.0, Max = 79.0\n",
      "Daily Obs Count NO2: Min = 18.0, Max = 24.0\n",
      "Daily Max 8-hour Ozone Concentration: Min = 0.0, Max = 0.068\n",
      "Daily AQI Value Ozone: Min = 0.0, Max = 93.0\n",
      "Daily Obs Count Ozone: Min = 13.0, Max = 68.0\n",
      "Daily Mean PM2.5 Concentration: Min = -2.3, Max = 22.7\n",
      "Daily AQI Value PM2.5: Min = 0.0, Max = 76.0\n",
      "Daily Obs Count PM2.5: Min = 1.0, Max = 2.0\n",
      "Daily Mean PM10 Concentration: Min = -20.0, Max = 74.0\n",
      "Daily AQI Value PM10: Min = 0.0, Max = 60.0\n",
      "Daily Obs Count PM10: Min = 1.0, Max = 1.0\n",
      "Daily Max 1-hour SO2 Concentration: Min = -1.7, Max = 3.9\n",
      "Daily AQI Value SO2: Min = 0.0, Max = 4.0\n",
      "Daily Obs Count SO2: Min = 18.0, Max = 24.0\n",
      "Weekend: Min = 0, Max = 1\n",
      "Outlier: Min = False, Max = False\n"
     ]
    }
   ],
   "source": [
    "# Look at data range after removing outliers\n",
    "after_outliers_df = df[df['Outlier'] == False] # Keep only rows that are not in outliers_df\n",
    "print_column_ranges(after_outliers_df)"
   ]
  },
  {
   "cell_type": "markdown",
   "metadata": {},
   "source": [
    "Impute Missing Values"
   ]
  },
  {
   "cell_type": "code",
   "execution_count": 67,
   "metadata": {},
   "outputs": [
    {
     "name": "stdout",
     "output_type": "stream",
     "text": [
      "Row # Before Dropping Rows:  122347\n",
      "Row # After Dropping Rows:  122347\n",
      "Missing Values # Before Iterative Imputation: 648867\n",
      "Missing Values # After Iterative Imputation: 0\n"
     ]
    }
   ],
   "source": [
    "print(\"Row # Before Dropping Rows: \", df.shape[0])\n",
    "# Drop rows with at least 10 missing values\n",
    "df = df.dropna(thresh=df.shape[1] - 10 + 1)  # Keep rows with at least (total columns - 15 + 1) non-NaN value\n",
    "print(\"Row # After Dropping Rows: \", df.shape[0])\n",
    "\n",
    "\n",
    "# Select numeric columns for imputation\n",
    "numeric_cols = df.select_dtypes(include=['number']).columns\n",
    "df_numeric = df[numeric_cols]\n",
    "\n",
    "print(\"Missing Values # Before Iterative Imputation:\", df_numeric.isna().sum().sum())\n",
    "\n",
    "# Initialize Iterative Imputer\n",
    "imputer = IterativeImputer(estimator=BayesianRidge(), max_iter=20, random_state=42)\n",
    "\n",
    "# Apply iterative imputation\n",
    "df_numeric_imputed = imputer.fit_transform(df_numeric)\n",
    "\n",
    "# Assign imputed values back to DataFrame\n",
    "df[numeric_cols] = df_numeric_imputed\n",
    "\n",
    "print(\"Missing Values # After Iterative Imputation:\", df.isna().sum().sum())"
   ]
  },
  {
   "cell_type": "markdown",
   "metadata": {},
   "source": [
    "Dimension Reduction \n",
    "- Process:\n",
    "    - Use PCA:\n",
    "        - Captures the most important variations in pollution levels\n",
    "- Implications:\n",
    "    - We will use df_pca as input for models"
   ]
  },
  {
   "cell_type": "code",
   "execution_count": 68,
   "metadata": {},
   "outputs": [
    {
     "data": {
      "image/png": "[encoded data removed]",
      "text/plain": [
       "<Figure size 800x500 with 1 Axes>"
      ]
     },
     "metadata": {},
     "output_type": "display_data"
    },
    {
     "name": "stdout",
     "output_type": "stream",
     "text": [
      "Optimal number of components: 12\n",
      "        PC1       PC2       PC3       PC4       PC5       PC6       PC7  \\\n",
      "0  2.439428  2.993095 -1.174535 -0.133809 -0.769846 -1.946267 -0.030149   \n",
      "1  2.370770  2.978999 -1.231060 -0.123615 -0.758946 -1.935691 -0.045164   \n",
      "2  2.400185  1.702348 -1.408770 -0.018984 -1.501565 -2.244991  0.367040   \n",
      "3  5.989178 -0.729894 -1.093566 -1.093973 -1.795737  1.201421  1.427373   \n",
      "4  6.578391 -1.928838 -2.158383 -1.047485 -0.174951  2.920387  3.055539   \n",
      "\n",
      "        PC8       PC9      PC10      PC11      PC12  \n",
      "0  0.061250 -0.217258 -0.861728  0.477877 -0.776976  \n",
      "1  0.096887 -0.229165 -0.832677  0.416850 -0.721739  \n",
      "2  0.064951 -0.457537 -0.475060  0.343268  0.296374  \n",
      "3 -0.019740 -0.558025  0.205766 -0.821633 -0.004229  \n",
      "4 -0.649414 -0.925899  0.706371 -1.160132 -0.264936  \n"
     ]
    }
   ],
   "source": [
    "# Drop non-numeric columns\n",
    "df_numeric = df.select_dtypes(include=[np.number]).dropna()\n",
    "\n",
    "# Standardize the data \n",
    "scaler = StandardScaler()\n",
    "df_scaled = scaler.fit_transform(df_numeric)\n",
    "\n",
    "# Apply PCA\n",
    "pca = PCA()\n",
    "principal_components = pca.fit_transform(df_scaled)\n",
    "\n",
    "# Explained variance ratio\n",
    "explained_variance = np.cumsum(pca.explained_variance_ratio_)\n",
    "\n",
    "# Plot explained variance to decide how many components to keep\n",
    "plt.figure(figsize=(8,5))\n",
    "plt.plot(range(1, len(explained_variance) + 1), explained_variance, marker='o', linestyle='--')\n",
    "plt.xlabel('Number of Principal Components')\n",
    "plt.ylabel('Cumulative Explained Variance')\n",
    "plt.title('Explained Variance by Number of Components')\n",
    "plt.show()\n",
    "\n",
    "# Keep components that explain at least 95% of the variance\n",
    "n_components = np.argmax(explained_variance >= 0.95) + 1\n",
    "print(f'Optimal number of components: {n_components}')\n",
    "\n",
    "# Transform data using selected components\n",
    "pca = PCA(n_components=n_components)\n",
    "principal_components = pca.fit_transform(df_scaled)\n",
    "\n",
    "# Create a DataFrame with the optimal principal components\n",
    "df_pca = pd.DataFrame(principal_components, columns=[f'PC{i+1}' for i in range(n_components)])\n",
    "print(df_pca.head())\n"
   ]
  },
  {
   "cell_type": "markdown",
   "metadata": {},
   "source": [
    "Train/Validate/Test Split: 80/10/10 "
   ]
  },
  {
   "cell_type": "code",
   "execution_count": 69,
   "metadata": {},
   "outputs": [],
   "source": [
    "train_df = df[df['Date'] < '01/01/2023']  # Train 80%\n",
    "validate_df = df[(df['Date'] >= '01/01/2023') & (df['Date'] < '01/01/2024')]  # Validate 10%\n",
    "test_df = df[df['Date'] >= '01/01/2024']  # Test 10%"
   ]
  },
  {
   "cell_type": "markdown",
   "metadata": {},
   "source": [
    "Save to CSV"
   ]
  },
  {
   "cell_type": "code",
   "execution_count": 70,
   "metadata": {},
   "outputs": [],
   "source": [
    "df.to_csv('AirQuality.csv', index=False)"
   ]
  },
  {
   "cell_type": "markdown",
   "metadata": {},
   "source": [
    "## Data Cleaning Explanation"
   ]
  },
  {
   "cell_type": "markdown",
   "metadata": {},
   "source": [
    "#### 1: Dataset Explanation"
   ]
  },
  {
   "cell_type": "markdown",
   "metadata": {},
   "source": [
    "The dataset is an outdoor air quality dataset from the Environmental Protection Agency's Air Quality System, where data has to be officially submitted and certified. The data was originally collected at monitor stations across Utah, multiple times a day over a 10 year period. Depending on the pollutant measured, either the 8-hour max or daily average was recorded. The number of observations each day was also recorded and the Air Quality Index was calculated using equation 1 from page 13 of Technical Assistance Document for the Reporting of Daily Air Quality – the Air Quality Index (AQI) https://document.airnow.gov/technical-assistance-document-for-the-reporting-of-daily-air-quailty.pdf\n",
    "\n",
    "After cleaning, the dataset has 23 features including date, location, and concentration, AQI and observation count for 5 pollutants. There are 147722 observations, with observations for multiple locations each day across 10 years. The data is publicly available and there are no privacy concerns with its use. Date, Site ID, County FIPS Code, and County are unitless. All six daily obs count columns are measured in number of observations. All six AQI columns are unitless as AQI is an index. The units for the concentration columns are as follows: CO: ppm, NO2: ppb, Ozone: ppm, PM2.5: ug/m3 LC, PM10: ug/m3 SC, SO2: ppb."
   ]
  },
  {
   "cell_type": "markdown",
   "metadata": {},
   "source": [
    "#### 2: Combining Datasets"
   ]
  },
  {
   "cell_type": "markdown",
   "metadata": {},
   "source": [
    "Each pollutant had its own dataset for each year, meaning that 60 datasets were merged to create the current one. Merging pollutants across years was relatively simple because the data was standardized. Then the 6 dataframes were merged on Site ID, Date, County, Site Latitude and Site Longitude. The units columns were dropped because the concentrations were measured in different units. Any locations with less than three pollutants measured were also dropped. "
   ]
  },
  {
   "cell_type": "markdown",
   "metadata": {},
   "source": [
    "#### 3: Problems with the Data"
   ]
  },
  {
   "cell_type": "markdown",
   "metadata": {},
   "source": [
    "Several features required data type conversions. The 'Date' feature was converted to a datetime object, while all columns of object type were converted to strings for consistency. To deal with missing values, we dropped any rows that had 10 or more missing values since they left too many gaps in the data. After that, the highest percentage of missing values in any column was around 10%. We attempted to use K-Nearest Neighbors (KNN), but it was too computationally expensive. We then chose to use sklearn's IterativeImputer method since it is still able to handle complex relationships and uses other features to fill in values. We also ran into a lot of duplicate rows and are still figuring out whether we accidentally created them when importing the data or if they were already in the original dataset. As for outliers, some values stood out as extreme, but none seemed obviously wrong. Since real-world data naturally has outliers, we decided to keep them. We will set up our code so we can easily include or remove later."
   ]
  },
  {
   "cell_type": "markdown",
   "metadata": {},
   "source": [
    "#### 4: Suitable Data for Research Questions"
   ]
  },
  {
   "cell_type": "markdown",
   "metadata": {},
   "source": [
    "What are the key factors correlated with air quality; how do wildfires and pollution levels influence air quality indices?\n",
    "- Our data focuses on a variety of pollutants, along with the air quality index. This should help us determine key factors in air quality\n",
    "\n",
    "How do seasonal patterns, long-term industrial changes, and the implementation of environmental policies affect air quality trends over time?\n",
    "- We have 10 years worth of data, so finding seasonal patterns is possible, but long term industrial changes and environmental policies over time might be hard to track with our dataset. Adding more data would probably represent the long term questions better.\n",
    "\n",
    "To what extent can we accurately forecast air quality 3 days in advance using historical data using markov chains and other mathematical techniques?\n",
    "- We can use the answers of the previous two questions to answer this one, which means our data is suitable for this project.\n"
   ]
  },
  {
   "cell_type": "markdown",
   "metadata": {},
   "source": [
    "#### 5: Data Collection"
   ]
  },
  {
   "cell_type": "markdown",
   "metadata": {},
   "source": [
    "Air quality patterns change over time with environmental policies, industrial shifts, and climate changes. An example of this is increasing wildfires. To combat this, we can use time-series weighting that gives higher importance to recent samples. "
   ]
  },
  {
   "cell_type": "markdown",
   "metadata": {},
   "source": [
    "#### 6: Train/Validate/Test Split Methods"
   ]
  },
  {
   "cell_type": "markdown",
   "metadata": {},
   "source": [
    "We will split the data into three sections: training on the earliest 80% of the data (8 years), validation on the next 10% (1 year), and testing on the most recent 10% (1 year). This way our model only learns from past data to predict future values. To avoid leakage, we will not use future information when training models and will make sure that any feature engineering (such as rolling averages) is based only on past observations. We will fix a random seed when partitioning the validation set to make sure it is reproducible.\n",
    "- Note: We are currently looking at 10 years of data. This number can increase if needed based on our results. \n"
   ]
  },
  {
   "cell_type": "markdown",
   "metadata": {},
   "source": [
    "#### 7: Dataset Readiness"
   ]
  },
  {
   "cell_type": "markdown",
   "metadata": {},
   "source": [
    "Our dataset is 90% ready to be used in our models.\n",
    "\n",
    "There are negative pollutant concentration values that require further investigation. "
   ]
  }
 ],
 "metadata": {
  "kernelspec": {
   "display_name": "acme",
   "language": "python",
   "name": "python3"
  },
  "language_info": {
   "codemirror_mode": {
    "name": "ipython",
    "version": 3
   },
   "file_extension": ".py",
   "mimetype": "text/x-python",
   "name": "python",
   "nbconvert_exporter": "python",
   "pygments_lexer": "ipython3",
   "version": "3.12.5"
  }
 },
 "nbformat": 4,
 "nbformat_minor": 4
}
